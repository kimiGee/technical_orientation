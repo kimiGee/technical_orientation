{
 "cells": [
  {
   "cell_type": "markdown",
   "id": "0e0e14d3-24a6-45f0-ba44-ccbcf939e039",
   "metadata": {},
   "source": [
    "# Technical Orientation\n",
    "## Hello World 'Program'"
   ]
  },
  {
   "cell_type": "code",
   "execution_count": 2,
   "id": "8618e178-4800-46fc-92db-468ea53c47e9",
   "metadata": {},
   "outputs": [
    {
     "name": "stdout",
     "output_type": "stream",
     "text": [
      "Hello World!\n"
     ]
    }
   ],
   "source": [
    "print(\"Hello World!\")"
   ]
  },
  {
   "cell_type": "code",
   "execution_count": null,
   "id": "05b8ac5a-72ec-42e7-a939-5bc504840628",
   "metadata": {},
   "outputs": [],
   "source": []
  }
 ],
 "metadata": {
  "kernelspec": {
   "display_name": "Python 3 (ipykernel)",
   "language": "python",
   "name": "python3"
  },
  "language_info": {
   "codemirror_mode": {
    "name": "ipython",
    "version": 3
   },
   "file_extension": ".py",
   "mimetype": "text/x-python",
   "name": "python",
   "nbconvert_exporter": "python",
   "pygments_lexer": "ipython3",
   "version": "3.11.0"
  }
 },
 "nbformat": 4,
 "nbformat_minor": 5
}
