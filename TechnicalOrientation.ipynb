{
 "cells": [
  {
   "cell_type": "markdown",
   "id": "0e0e14d3-24a6-45f0-ba44-ccbcf939e039",
   "metadata": {},
   "source": [
    "# Technical Orientation\n",
    "## Hello World 'Program'"
   ]
  },
  {
   "cell_type": "code",
   "execution_count": 2,
   "id": "8618e178-4800-46fc-92db-468ea53c47e9",
   "metadata": {},
   "outputs": [
    {
     "name": "stdout",
     "output_type": "stream",
     "text": [
      "Hello World!\n"
     ]
    }
   ],
   "source": [
    "print(\"Hello World!\")"
   ]
  },
  {
   "cell_type": "markdown",
   "id": "592b82cf-0265-414b-81db-445efec70012",
   "metadata": {},
   "source": [
    "## Project Euler \n",
    "### Multiples of 3 or 5."
   ]
  },
  {
   "cell_type": "markdown",
   "id": "f355f596-0e6b-4629-9b7f-1eabf56709c8",
   "metadata": {},
   "source": [
    "Find the sum of all the multiples of 3 or 5 below 1000."
   ]
  },
  {
   "cell_type": "code",
   "execution_count": 7,
   "id": "24bb41be-437d-438d-85cd-eb6091852c91",
   "metadata": {},
   "outputs": [
    {
     "name": "stdout",
     "output_type": "stream",
     "text": [
      "233168\n"
     ]
    }
   ],
   "source": [
    "sum = 0\n",
    "for num in range(0, 1000):\n",
    "    if (num%3 == 0) or (num%5 == 0):\n",
    "        sum = num + sum\n",
    "\n",
    "print(sum)"
   ]
  },
  {
   "cell_type": "markdown",
   "id": "d89a612d-887a-442c-99c2-e61440f45414",
   "metadata": {},
   "source": [
    "### Even Fibonacci Numbers\n",
    "By consider the terms in the Fibonacci sequence whose values do not exceed four million, find the sum of the even-valued terms."
   ]
  },
  {
   "cell_type": "code",
   "execution_count": 36,
   "id": "d882c014-756f-4ed9-b0ad-1bebcb714e4b",
   "metadata": {},
   "outputs": [
    {
     "name": "stdout",
     "output_type": "stream",
     "text": [
      "sum:  4613732\n"
     ]
    }
   ],
   "source": [
    "limit = 4000000\n",
    "smallNum = 1 \n",
    "largeNum = 2 \n",
    "sum = 0\n",
    "while largeNum < limit: \n",
    "    if largeNum%2 == 0:\n",
    "        sum += largeNum\n",
    "    placeholder = largeNum\n",
    "    largeNum = smallNum + largeNum\n",
    "    smallNum = placeholder\n",
    "print(\"sum: \", sum)"
   ]
  },
  {
   "cell_type": "code",
   "execution_count": null,
   "id": "95814f7f-b338-442b-bfed-8cffe6c8aa0b",
   "metadata": {},
   "outputs": [],
   "source": []
  }
 ],
 "metadata": {
  "kernelspec": {
   "display_name": "Python 3 (ipykernel)",
   "language": "python",
   "name": "python3"
  },
  "language_info": {
   "codemirror_mode": {
    "name": "ipython",
    "version": 3
   },
   "file_extension": ".py",
   "mimetype": "text/x-python",
   "name": "python",
   "nbconvert_exporter": "python",
   "pygments_lexer": "ipython3",
   "version": "3.11.0"
  }
 },
 "nbformat": 4,
 "nbformat_minor": 5
}
